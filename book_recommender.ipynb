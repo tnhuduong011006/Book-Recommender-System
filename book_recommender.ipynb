{
  "nbformat": 4,
  "nbformat_minor": 0,
  "metadata": {
    "colab": {
      "provenance": [],
      "toc_visible": true
    },
    "kernelspec": {
      "name": "python3",
      "display_name": "Python 3"
    },
    "language_info": {
      "name": "python"
    }
  },
  "cells": [
    {
      "cell_type": "code",
      "execution_count": null,
      "metadata": {
        "colab": {
          "base_uri": "https://localhost:8080/"
        },
        "id": "2vDo3wBR78iw",
        "outputId": "5feb916e-c2b6-4f70-cd41-e22559a8856e"
      },
      "outputs": [
        {
          "output_type": "stream",
          "name": "stdout",
          "text": [
            "Mounted at /content/drive\n"
          ]
        }
      ],
      "source": [
        "from google.colab import drive\n",
        "drive.mount('/content/drive')"
      ]
    },
    {
      "cell_type": "code",
      "source": [
        "import pandas as pd\n",
        "books = pd.read_csv('/content/drive/MyDrive/data/book_226/books.csv')"
      ],
      "metadata": {
        "id": "ZPieTaNn8GJX"
      },
      "execution_count": null,
      "outputs": []
    },
    {
      "cell_type": "code",
      "source": [
        "books.head()"
      ],
      "metadata": {
        "id": "VVx823Nt_nAM",
        "colab": {
          "base_uri": "https://localhost:8080/",
          "height": 511
        },
        "outputId": "062e6048-5523-4b32-c487-e23113c752db"
      },
      "execution_count": null,
      "outputs": [
        {
          "output_type": "execute_result",
          "data": {
            "text/plain": [
              "       ID                                            TenSach  \\\n",
              "0   34990  Web publisher's construction kit with Nescape ...   \n",
              "1  153130   Management strategies for information technology   \n",
              "2  137236  Management information systems for the informa...   \n",
              "3  146779         An introduction to enterprise architecture   \n",
              "4  153084                             Security in e-learning   \n",
              "\n",
              "                  TacGia LoaiCSDL                   STTKe  \\\n",
              "0       Jonathan Angel\\n  Sách in   005.758   \\n/ A581 \\n   \n",
              "1     Earl, Michael J.\\n  Sách in   658.4038   \\n/ E12 \\n   \n",
              "2  McCubbrey, Donald J.   Sách in     658.4   \\n/ H111 \\n   \n",
              "3    Bernard, Scott A.\\n  Sách in  658.4038   \\n/ B518 \\n   \n",
              "4     Weippl, Edgar R.\\n  Sách in     005.8   \\n/ W423 \\n   \n",
              "\n",
              "                                           NXB  \\\n",
              "0  Corte Madera, California: Waite Group Press   \n",
              "1                New York: Prentice Hall, 1989   \n",
              "2       Boston, Mass.: McGraw-Hill Irwin, 2005   \n",
              "3       [Bloomington, Ind.]: AuthorHouse, 2005   \n",
              "4                 New York, NY: Springer, 2005   \n",
              "\n",
              "                                               ChuDe  \n",
              "0  computer programming ( electronic computers )N...  \n",
              "1  Information resources management; Information ...  \n",
              "2  Management information systems; Hệ thống thông...  \n",
              "3  Management information systems; System design;...  \n",
              "4  Information technology; Computer security; Com...  "
            ],
            "text/html": [
              "\n",
              "  <div id=\"df-5b91fbd5-b5db-4f96-8498-3936061de76c\">\n",
              "    <div class=\"colab-df-container\">\n",
              "      <div>\n",
              "<style scoped>\n",
              "    .dataframe tbody tr th:only-of-type {\n",
              "        vertical-align: middle;\n",
              "    }\n",
              "\n",
              "    .dataframe tbody tr th {\n",
              "        vertical-align: top;\n",
              "    }\n",
              "\n",
              "    .dataframe thead th {\n",
              "        text-align: right;\n",
              "    }\n",
              "</style>\n",
              "<table border=\"1\" class=\"dataframe\">\n",
              "  <thead>\n",
              "    <tr style=\"text-align: right;\">\n",
              "      <th></th>\n",
              "      <th>ID</th>\n",
              "      <th>TenSach</th>\n",
              "      <th>TacGia</th>\n",
              "      <th>LoaiCSDL</th>\n",
              "      <th>STTKe</th>\n",
              "      <th>NXB</th>\n",
              "      <th>ChuDe</th>\n",
              "    </tr>\n",
              "  </thead>\n",
              "  <tbody>\n",
              "    <tr>\n",
              "      <th>0</th>\n",
              "      <td>34990</td>\n",
              "      <td>Web publisher's construction kit with Nescape ...</td>\n",
              "      <td>Jonathan Angel\\n</td>\n",
              "      <td>Sách in</td>\n",
              "      <td>005.758   \\n/ A581 \\n</td>\n",
              "      <td>Corte Madera, California: Waite Group Press</td>\n",
              "      <td>computer programming ( electronic computers )N...</td>\n",
              "    </tr>\n",
              "    <tr>\n",
              "      <th>1</th>\n",
              "      <td>153130</td>\n",
              "      <td>Management strategies for information technology</td>\n",
              "      <td>Earl, Michael J.\\n</td>\n",
              "      <td>Sách in</td>\n",
              "      <td>658.4038   \\n/ E12 \\n</td>\n",
              "      <td>New York: Prentice Hall, 1989</td>\n",
              "      <td>Information resources management; Information ...</td>\n",
              "    </tr>\n",
              "    <tr>\n",
              "      <th>2</th>\n",
              "      <td>137236</td>\n",
              "      <td>Management information systems for the informa...</td>\n",
              "      <td>McCubbrey, Donald J.</td>\n",
              "      <td>Sách in</td>\n",
              "      <td>658.4   \\n/ H111 \\n</td>\n",
              "      <td>Boston, Mass.: McGraw-Hill Irwin, 2005</td>\n",
              "      <td>Management information systems; Hệ thống thông...</td>\n",
              "    </tr>\n",
              "    <tr>\n",
              "      <th>3</th>\n",
              "      <td>146779</td>\n",
              "      <td>An introduction to enterprise architecture</td>\n",
              "      <td>Bernard, Scott A.\\n</td>\n",
              "      <td>Sách in</td>\n",
              "      <td>658.4038   \\n/ B518 \\n</td>\n",
              "      <td>[Bloomington, Ind.]: AuthorHouse, 2005</td>\n",
              "      <td>Management information systems; System design;...</td>\n",
              "    </tr>\n",
              "    <tr>\n",
              "      <th>4</th>\n",
              "      <td>153084</td>\n",
              "      <td>Security in e-learning</td>\n",
              "      <td>Weippl, Edgar R.\\n</td>\n",
              "      <td>Sách in</td>\n",
              "      <td>005.8   \\n/ W423 \\n</td>\n",
              "      <td>New York, NY: Springer, 2005</td>\n",
              "      <td>Information technology; Computer security; Com...</td>\n",
              "    </tr>\n",
              "  </tbody>\n",
              "</table>\n",
              "</div>\n",
              "      <button class=\"colab-df-convert\" onclick=\"convertToInteractive('df-5b91fbd5-b5db-4f96-8498-3936061de76c')\"\n",
              "              title=\"Convert this dataframe to an interactive table.\"\n",
              "              style=\"display:none;\">\n",
              "        \n",
              "  <svg xmlns=\"http://www.w3.org/2000/svg\" height=\"24px\"viewBox=\"0 0 24 24\"\n",
              "       width=\"24px\">\n",
              "    <path d=\"M0 0h24v24H0V0z\" fill=\"none\"/>\n",
              "    <path d=\"M18.56 5.44l.94 2.06.94-2.06 2.06-.94-2.06-.94-.94-2.06-.94 2.06-2.06.94zm-11 1L8.5 8.5l.94-2.06 2.06-.94-2.06-.94L8.5 2.5l-.94 2.06-2.06.94zm10 10l.94 2.06.94-2.06 2.06-.94-2.06-.94-.94-2.06-.94 2.06-2.06.94z\"/><path d=\"M17.41 7.96l-1.37-1.37c-.4-.4-.92-.59-1.43-.59-.52 0-1.04.2-1.43.59L10.3 9.45l-7.72 7.72c-.78.78-.78 2.05 0 2.83L4 21.41c.39.39.9.59 1.41.59.51 0 1.02-.2 1.41-.59l7.78-7.78 2.81-2.81c.8-.78.8-2.07 0-2.86zM5.41 20L4 18.59l7.72-7.72 1.47 1.35L5.41 20z\"/>\n",
              "  </svg>\n",
              "      </button>\n",
              "      \n",
              "  <style>\n",
              "    .colab-df-container {\n",
              "      display:flex;\n",
              "      flex-wrap:wrap;\n",
              "      gap: 12px;\n",
              "    }\n",
              "\n",
              "    .colab-df-convert {\n",
              "      background-color: #E8F0FE;\n",
              "      border: none;\n",
              "      border-radius: 50%;\n",
              "      cursor: pointer;\n",
              "      display: none;\n",
              "      fill: #1967D2;\n",
              "      height: 32px;\n",
              "      padding: 0 0 0 0;\n",
              "      width: 32px;\n",
              "    }\n",
              "\n",
              "    .colab-df-convert:hover {\n",
              "      background-color: #E2EBFA;\n",
              "      box-shadow: 0px 1px 2px rgba(60, 64, 67, 0.3), 0px 1px 3px 1px rgba(60, 64, 67, 0.15);\n",
              "      fill: #174EA6;\n",
              "    }\n",
              "\n",
              "    [theme=dark] .colab-df-convert {\n",
              "      background-color: #3B4455;\n",
              "      fill: #D2E3FC;\n",
              "    }\n",
              "\n",
              "    [theme=dark] .colab-df-convert:hover {\n",
              "      background-color: #434B5C;\n",
              "      box-shadow: 0px 1px 3px 1px rgba(0, 0, 0, 0.15);\n",
              "      filter: drop-shadow(0px 1px 2px rgba(0, 0, 0, 0.3));\n",
              "      fill: #FFFFFF;\n",
              "    }\n",
              "  </style>\n",
              "\n",
              "      <script>\n",
              "        const buttonEl =\n",
              "          document.querySelector('#df-5b91fbd5-b5db-4f96-8498-3936061de76c button.colab-df-convert');\n",
              "        buttonEl.style.display =\n",
              "          google.colab.kernel.accessAllowed ? 'block' : 'none';\n",
              "\n",
              "        async function convertToInteractive(key) {\n",
              "          const element = document.querySelector('#df-5b91fbd5-b5db-4f96-8498-3936061de76c');\n",
              "          const dataTable =\n",
              "            await google.colab.kernel.invokeFunction('convertToInteractive',\n",
              "                                                     [key], {});\n",
              "          if (!dataTable) return;\n",
              "\n",
              "          const docLinkHtml = 'Like what you see? Visit the ' +\n",
              "            '<a target=\"_blank\" href=https://colab.research.google.com/notebooks/data_table.ipynb>data table notebook</a>'\n",
              "            + ' to learn more about interactive tables.';\n",
              "          element.innerHTML = '';\n",
              "          dataTable['output_type'] = 'display_data';\n",
              "          await google.colab.output.renderOutput(dataTable, element);\n",
              "          const docLink = document.createElement('div');\n",
              "          docLink.innerHTML = docLinkHtml;\n",
              "          element.appendChild(docLink);\n",
              "        }\n",
              "      </script>\n",
              "    </div>\n",
              "  </div>\n",
              "  "
            ]
          },
          "metadata": {},
          "execution_count": 3
        }
      ]
    },
    {
      "cell_type": "code",
      "source": [
        "books[\"ChuDe\"][0]"
      ],
      "metadata": {
        "colab": {
          "base_uri": "https://localhost:8080/",
          "height": 122
        },
        "id": "VvN_TXcnuRiq",
        "outputId": "c552ff9c-cad4-4279-d6f1-fdd70c132a75"
      },
      "execution_count": null,
      "outputs": [
        {
          "output_type": "execute_result",
          "data": {
            "text/plain": [
              "'computer programming ( electronic computers )Nescape Plug-Ins developer&apos;\\xa0s kit20.01;\\xa0computer programs - study and teaching;\\xa0database administration;\\xa0internet ( computer network ) - study and teaching;\\xa0sql ( computer program language );\\xa0Công nghệ thông tin;\\xa0Mạng máy tính;\\xa0Ngôn ngữ lập trìnhsql ( computer program language );\\xa0Quản trị CSDL;\\xa0client/server computing;\\xa0computer networks;\\xa0computer programming ( electronic computers )'"
            ],
            "application/vnd.google.colaboratory.intrinsic+json": {
              "type": "string"
            }
          },
          "metadata": {},
          "execution_count": 4
        }
      ]
    },
    {
      "cell_type": "code",
      "source": [
        "# Convert NXB: chỉ loại bỏ năm xb ở cuối\n",
        "def convert_nxb(obj):\n",
        "  S = ''\n",
        "  for i in obj.split(\", \"):\n",
        "    if i.isnumeric() == 0: \n",
        "      S+=i\n",
        "\n",
        "  return S"
      ],
      "metadata": {
        "id": "QP42DZBsa7r1"
      },
      "execution_count": null,
      "outputs": []
    },
    {
      "cell_type": "code",
      "source": [
        "def handle_topic(str):\n",
        "  L = []\n",
        "  \n",
        "  for i in str.split(';'):\n",
        "    for j in i.split('('):\n",
        "      for k in j.split(')'):\n",
        "        if k != '':\n",
        "          L.append(k)\n",
        "  \n",
        "  return L"
      ],
      "metadata": {
        "id": "LVsE98ESvTZC"
      },
      "execution_count": null,
      "outputs": []
    },
    {
      "cell_type": "code",
      "source": [
        "# Xóa tất cả các kí tự đặt biệt\n",
        "books[\"TacGia\"] = books[\"TacGia\"].apply(lambda x : ''.join(e for e in x if e.isalnum()))\n",
        "books[\"TacGia\"] = books[\"TacGia\"].apply(lambda x : [x.replace(\" \",\"\")])\n"
      ],
      "metadata": {
        "id": "tUDQJTTuBEn3"
      },
      "execution_count": null,
      "outputs": []
    },
    {
      "cell_type": "code",
      "source": [
        "books[\"STTKe\"] = books[\"STTKe\"].apply(lambda x : x.replace(\"\\n\",\"\"))\n",
        "books[\"STTKe\"] = books[\"STTKe\"].apply(lambda x : x.replace(\" \",\"\"))"
      ],
      "metadata": {
        "id": "P0BNeLVre2MV"
      },
      "execution_count": null,
      "outputs": []
    },
    {
      "cell_type": "code",
      "source": [
        "books[\"NXB\"] = books[\"NXB\"].apply(convert_nxb)\n",
        "books[\"NXB\"] = books[\"NXB\"].apply(lambda x : ''.join(e for e in x if e.isalnum()))\n",
        "books[\"NXB\"] = books[\"NXB\"].apply(lambda x : [x.replace(\" \",\"\")])\n"
      ],
      "metadata": {
        "id": "JudtkcY9JTLW"
      },
      "execution_count": null,
      "outputs": []
    },
    {
      "cell_type": "code",
      "source": [
        "books[\"ChuDe\"] = books[\"ChuDe\"].apply(handle_topic)\n",
        "books[\"ChuDe\"] = books[\"ChuDe\"].apply(lambda x : [''.join(e.lower() for e in i if e.isalnum()) for i in x])"
      ],
      "metadata": {
        "id": "74zrSW7XJDk_"
      },
      "execution_count": null,
      "outputs": []
    },
    {
      "cell_type": "code",
      "source": [
        "books[\"ChuDe\"][0]"
      ],
      "metadata": {
        "colab": {
          "base_uri": "https://localhost:8080/"
        },
        "id": "wIzKm_ZWyErS",
        "outputId": "0e0e9965-6b06-4e55-f50f-7c92191cd2e9"
      },
      "execution_count": null,
      "outputs": [
        {
          "output_type": "execute_result",
          "data": {
            "text/plain": [
              "['computerprogramming',\n",
              " 'electroniccomputers',\n",
              " 'nescapepluginsdeveloperapos',\n",
              " 'skit2001',\n",
              " 'computerprogramsstudyandteaching',\n",
              " 'databaseadministration',\n",
              " 'internet',\n",
              " 'computernetwork',\n",
              " 'studyandteaching',\n",
              " 'sql',\n",
              " 'computerprogramlanguage',\n",
              " 'côngnghệthôngtin',\n",
              " 'mạngmáytính',\n",
              " 'ngônngữlậptrìnhsql',\n",
              " 'computerprogramlanguage',\n",
              " 'quảntrịcsdl',\n",
              " 'clientservercomputing',\n",
              " 'computernetworks',\n",
              " 'computerprogramming',\n",
              " 'electroniccomputers']"
            ]
          },
          "metadata": {},
          "execution_count": 11
        }
      ]
    },
    {
      "cell_type": "code",
      "source": [
        "!pip install underthesea\n",
        "from underthesea import word_tokenize"
      ],
      "metadata": {
        "id": "Ztu6pBvsLaC7",
        "colab": {
          "base_uri": "https://localhost:8080/"
        },
        "outputId": "0702add8-1798-44a4-e9bb-dfbc82b5769a"
      },
      "execution_count": null,
      "outputs": [
        {
          "output_type": "stream",
          "name": "stdout",
          "text": [
            "Looking in indexes: https://pypi.org/simple, https://us-python.pkg.dev/colab-wheels/public/simple/\n",
            "Collecting underthesea\n",
            "  Downloading underthesea-6.2.0-py3-none-any.whl (19.2 MB)\n",
            "\u001b[2K     \u001b[90m━━━━━━━━━━━━━━━━━━━━━━━━━━━━━━━━━━━━━━━━\u001b[0m \u001b[32m19.2/19.2 MB\u001b[0m \u001b[31m56.9 MB/s\u001b[0m eta \u001b[36m0:00:00\u001b[0m\n",
            "\u001b[?25hRequirement already satisfied: Click>=6.0 in /usr/local/lib/python3.10/dist-packages (from underthesea) (8.1.3)\n",
            "Collecting python-crfsuite>=0.9.6 (from underthesea)\n",
            "  Downloading python_crfsuite-0.9.9-cp310-cp310-manylinux_2_17_x86_64.manylinux2014_x86_64.whl (993 kB)\n",
            "\u001b[2K     \u001b[90m━━━━━━━━━━━━━━━━━━━━━━━━━━━━━━━━━━━━━━\u001b[0m \u001b[32m993.5/993.5 kB\u001b[0m \u001b[31m62.1 MB/s\u001b[0m eta \u001b[36m0:00:00\u001b[0m\n",
            "\u001b[?25hRequirement already satisfied: nltk in /usr/local/lib/python3.10/dist-packages (from underthesea) (3.8.1)\n",
            "Requirement already satisfied: tqdm in /usr/local/lib/python3.10/dist-packages (from underthesea) (4.65.0)\n",
            "Requirement already satisfied: requests in /usr/local/lib/python3.10/dist-packages (from underthesea) (2.27.1)\n",
            "Requirement already satisfied: joblib in /usr/local/lib/python3.10/dist-packages (from underthesea) (1.2.0)\n",
            "Requirement already satisfied: scikit-learn in /usr/local/lib/python3.10/dist-packages (from underthesea) (1.2.2)\n",
            "Requirement already satisfied: PyYAML in /usr/local/lib/python3.10/dist-packages (from underthesea) (6.0)\n",
            "Collecting underthesea-core==1.0.0 (from underthesea)\n",
            "  Downloading underthesea_core-1.0.0-cp310-cp310-manylinux2010_x86_64.whl (599 kB)\n",
            "\u001b[2K     \u001b[90m━━━━━━━━━━━━━━━━━━━━━━━━━━━━━━━━━━━━━━\u001b[0m \u001b[32m599.6/599.6 kB\u001b[0m \u001b[31m51.0 MB/s\u001b[0m eta \u001b[36m0:00:00\u001b[0m\n",
            "\u001b[?25hRequirement already satisfied: regex>=2021.8.3 in /usr/local/lib/python3.10/dist-packages (from nltk->underthesea) (2022.10.31)\n",
            "Requirement already satisfied: urllib3<1.27,>=1.21.1 in /usr/local/lib/python3.10/dist-packages (from requests->underthesea) (1.26.15)\n",
            "Requirement already satisfied: certifi>=2017.4.17 in /usr/local/lib/python3.10/dist-packages (from requests->underthesea) (2022.12.7)\n",
            "Requirement already satisfied: charset-normalizer~=2.0.0 in /usr/local/lib/python3.10/dist-packages (from requests->underthesea) (2.0.12)\n",
            "Requirement already satisfied: idna<4,>=2.5 in /usr/local/lib/python3.10/dist-packages (from requests->underthesea) (3.4)\n",
            "Requirement already satisfied: numpy>=1.17.3 in /usr/local/lib/python3.10/dist-packages (from scikit-learn->underthesea) (1.22.4)\n",
            "Requirement already satisfied: scipy>=1.3.2 in /usr/local/lib/python3.10/dist-packages (from scikit-learn->underthesea) (1.10.1)\n",
            "Requirement already satisfied: threadpoolctl>=2.0.0 in /usr/local/lib/python3.10/dist-packages (from scikit-learn->underthesea) (3.1.0)\n",
            "Installing collected packages: underthesea-core, python-crfsuite, underthesea\n",
            "Successfully installed python-crfsuite-0.9.9 underthesea-6.2.0 underthesea-core-1.0.0\n"
          ]
        }
      ]
    },
    {
      "cell_type": "code",
      "source": [
        "books[\"TenSach\"][214:220]\n"
      ],
      "metadata": {
        "id": "OUl5gRuUjauH",
        "colab": {
          "base_uri": "https://localhost:8080/"
        },
        "outputId": "1b4bda7b-23b5-42f1-c2c1-8d61556af2cb"
      },
      "execution_count": null,
      "outputs": [
        {
          "output_type": "execute_result",
          "data": {
            "text/plain": [
              "214    Macromedia dreamweaver MX H.O.T Hands-on training\n",
              "215    Các công cụ hỗ trợ thiết kế Web Flash MX nhìn ...\n",
              "216             Bài tập thực hành Wildform Fx & Flash Mx\n",
              "217                                    Mastering Maya® 7\n",
              "218                    Flash 5 for Windows and Macintosh\n",
              "219           Macromedia Flash 5 : Căn bản và chuyên sâu\n",
              "Name: TenSach, dtype: object"
            ]
          },
          "metadata": {},
          "execution_count": 13
        }
      ]
    },
    {
      "cell_type": "code",
      "source": [
        "# Loại bỏ kí tự đặt biệt và chuyển thành chữ thường\n",
        "books[\"TachTen\"] = books[\"TenSach\"].apply(lambda x : [''.join(e.lower() for e in i if e.isalnum()) for i in x.split(\" \")])\n",
        "# Đổi mảng thành chuỗi\n",
        "books[\"TachTen\"] = books[\"TachTen\"].apply(lambda x : ' '.join(x))\n",
        "# Tách từ cả tiếng Việt và tiếng Anh\n",
        "books[\"TachTen\"] = books[\"TachTen\"].apply(lambda x : ' '.join(i for i in word_tokenize(word_tokenize(x, format=\"text\"))).split(\" \"))\n"
      ],
      "metadata": {
        "id": "-XW3zzy4PL6S"
      },
      "execution_count": null,
      "outputs": []
    },
    {
      "cell_type": "code",
      "source": [
        "books[\"TachTen\"][218]"
      ],
      "metadata": {
        "colab": {
          "base_uri": "https://localhost:8080/"
        },
        "id": "K1oRv8zZi-0e",
        "outputId": "999da167-eb45-41bf-aa72-e32a3b50fd35"
      },
      "execution_count": null,
      "outputs": [
        {
          "output_type": "execute_result",
          "data": {
            "text/plain": [
              "['flash', '5', 'for', 'windows', 'and', 'macintosh']"
            ]
          },
          "metadata": {},
          "execution_count": 16
        }
      ]
    },
    {
      "cell_type": "code",
      "source": [
        "f = open(\"/content/drive/MyDrive/data/book_226/vietnamese_stopwords.txt\", \"r\", encoding=\"utf-8\")\n",
        "\n",
        "S = f.read()\n",
        "vietnamese_stopwords = S.split(\"\\n\")"
      ],
      "metadata": {
        "id": "O2MGdV7qWgV1"
      },
      "execution_count": null,
      "outputs": []
    },
    {
      "cell_type": "code",
      "source": [
        "vietnamese_stopwords = list(pd.DataFrame(vietnamese_stopwords)[0].apply(lambda x : x.replace(\" \",\"_\")))"
      ],
      "metadata": {
        "id": "RPjz_X3QZDpv"
      },
      "execution_count": null,
      "outputs": []
    },
    {
      "cell_type": "code",
      "source": [
        "# Hàm xóa stop_words tiếng Việt\n",
        "def delete_stopsword(list):\n",
        "  L = []\n",
        "\n",
        "  for i in list:\n",
        "    if (not(i in vietnamese_stopwords)):\n",
        "      L.append(i)\n",
        "  \n",
        "  return L"
      ],
      "metadata": {
        "id": "be8X-rmKfF4I"
      },
      "execution_count": null,
      "outputs": []
    },
    {
      "cell_type": "code",
      "source": [
        "books[\"TachTen\"] = books[\"TachTen\"].apply(delete_stopsword)"
      ],
      "metadata": {
        "id": "XP7RS8w2qn6p"
      },
      "execution_count": null,
      "outputs": []
    },
    {
      "cell_type": "code",
      "source": [
        "# Gom các features thành tag\n",
        "books[\"Tags\"] = books[\"TachTen\"] + books[\"TacGia\"] + books[\"ChuDe\"] + books[\"NXB\"]\n",
        "books[\"Tags\"] = books[\"Tags\"].apply(lambda x: \" \".join(x))"
      ],
      "metadata": {
        "id": "cXqMkhfY37FU"
      },
      "execution_count": null,
      "outputs": []
    },
    {
      "cell_type": "code",
      "source": [
        "books.to_csv('books_nlp.csv', encoding='utf-8-sig')"
      ],
      "metadata": {
        "id": "FE52Ot7g2Vjf"
      },
      "execution_count": null,
      "outputs": []
    },
    {
      "cell_type": "code",
      "source": [
        "# Tạo bag of words: đếm số từ xuất hiện\n",
        "# Loại bỏ stopwords tiếng anh\n",
        "from sklearn.feature_extraction.text import CountVectorizer\n",
        "cv = CountVectorizer(stop_words='english')\n",
        "vectors = cv.fit_transform(books['Tags']).toarray()\n"
      ],
      "metadata": {
        "id": "_zKvkPcpN9kR"
      },
      "execution_count": null,
      "outputs": []
    },
    {
      "cell_type": "code",
      "source": [
        "vectors"
      ],
      "metadata": {
        "id": "eYkH96m4Pm7M"
      },
      "execution_count": null,
      "outputs": []
    },
    {
      "cell_type": "code",
      "source": [
        "len(cv.get_feature_names_out())"
      ],
      "metadata": {
        "id": "iaefpOcOOqKz"
      },
      "execution_count": null,
      "outputs": []
    },
    {
      "cell_type": "code",
      "source": [
        "# Tính độ tương đồng bằng khảnh cách cosine\n",
        "from sklearn.metrics.pairwise import cosine_similarity\n",
        "# similarity với shape=(226, 226) 1 movie với n-1 movies còn lại\n",
        "similarity = cosine_similarity(vectors)\n"
      ],
      "metadata": {
        "id": "Srp5p6Eojwej"
      },
      "execution_count": null,
      "outputs": []
    },
    {
      "cell_type": "code",
      "source": [
        "similarity"
      ],
      "metadata": {
        "id": "SktQjP7Ek3FB"
      },
      "execution_count": null,
      "outputs": []
    },
    {
      "cell_type": "code",
      "source": [
        "def recommend(book):\n",
        "  # Vì là gợi ý nên chỉ số sẽ từ 1 đến 6, dùng trong trường hợp tên chính xác\n",
        "  books_list = sorted(list(enumerate(similarity[books[books[\"TenSach\"] == book].index[0]])), reverse=True, key = lambda x : x[1])[1:6]\n",
        "  \n",
        "  for i in books_list:\n",
        "    print(books.iloc[i[0]][\"TenSach\"])\n",
        "  print(sorted(list(enumerate(similarity[books[books[\"TenSach\"] == book].index[0]])), reverse=True, key = lambda x : x[1])[1:6])"
      ],
      "metadata": {
        "id": "wcQsQn_FkJvr"
      },
      "execution_count": null,
      "outputs": []
    },
    {
      "cell_type": "code",
      "source": [
        "books[\"TenSach\"][28]"
      ],
      "metadata": {
        "colab": {
          "base_uri": "https://localhost:8080/",
          "height": 35
        },
        "id": "BUp11WtA4dWx",
        "outputId": "839bc13a-0aef-4f58-afcd-4c09ae49a7db"
      },
      "execution_count": null,
      "outputs": [
        {
          "output_type": "execute_result",
          "data": {
            "text/plain": [
              "'Kĩ thuật phần mềm : Cách tiếp cận của người thực hành. Tập 2'"
            ],
            "application/vnd.google.colaboratory.intrinsic+json": {
              "type": "string"
            }
          },
          "metadata": {},
          "execution_count": 305
        }
      ]
    },
    {
      "cell_type": "code",
      "source": [
        "recommend(\"Kĩ thuật phần mềm : Cách tiếp cận của người thực hành. Tập 2\")"
      ],
      "metadata": {
        "id": "6Ca9lOW-kgKa"
      },
      "execution_count": null,
      "outputs": []
    },
    {
      "cell_type": "code",
      "source": [
        "import pickle\n",
        "# export dạng dict để sang app.py có thể đổi thành Dataframe, thỏa streamlit\n",
        "pickle.dump(dict(books), open('books_dict.pkl', 'wb'))"
      ],
      "metadata": {
        "id": "mwgUNJixHDsD"
      },
      "execution_count": null,
      "outputs": []
    },
    {
      "cell_type": "code",
      "source": [
        "pickle.dump(similarity, open('similarity.pkl', 'wb'))"
      ],
      "metadata": {
        "id": "xFA6myarHrx7"
      },
      "execution_count": null,
      "outputs": []
    }
  ]
}